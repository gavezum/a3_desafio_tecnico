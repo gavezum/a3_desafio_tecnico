{
 "cells": [
  {
   "cell_type": "markdown",
   "id": "b3a48e09",
   "metadata": {},
   "source": [
    "## Libs"
   ]
  },
  {
   "cell_type": "code",
   "execution_count": 1,
   "id": "3414b542",
   "metadata": {},
   "outputs": [],
   "source": [
    "import pandas as pd\n",
    "import matplotlib.pyplot as plt\n",
    "import numpy as np\n",
    "from utils import type_cols, miss_vars, check_low_categorical"
   ]
  },
  {
   "cell_type": "markdown",
   "id": "56e48817",
   "metadata": {},
   "source": [
    "## Import"
   ]
  },
  {
   "cell_type": "code",
   "execution_count": 2,
   "id": "17c0a3aa",
   "metadata": {},
   "outputs": [
    {
     "data": {
      "text/plain": [
       "(7043, 20)"
      ]
     },
     "execution_count": 2,
     "metadata": {},
     "output_type": "execute_result"
    }
   ],
   "source": [
    "# importando a base de dados\n",
    "df = pd.read_excel('data/raw/Customer_Churn.xlsx',\n",
    "                    index_col = 'customerID')\n",
    "\n",
    "numeric_cols, object_cols = type_cols(df)\n",
    "df.shape"
   ]
  },
  {
   "cell_type": "code",
   "execution_count": 16,
   "id": "f4f96fb2",
   "metadata": {
    "scrolled": false
   },
   "outputs": [
    {
     "data": {
      "text/plain": [
       "Churn\n",
       "No     0.73463\n",
       "Yes    0.26537\n",
       "Name: proportion, dtype: float64"
      ]
     },
     "execution_count": 16,
     "metadata": {},
     "output_type": "execute_result"
    }
   ],
   "source": [
    "# Nossa variavel resposta eh chamada de Churn\n",
    "df.Churn.value_counts(normalize = True)"
   ]
  },
  {
   "cell_type": "markdown",
   "id": "a3a5dea8",
   "metadata": {},
   "source": [
    "## Check variaveis numericas"
   ]
  },
  {
   "cell_type": "code",
   "execution_count": 3,
   "id": "adfd942f",
   "metadata": {},
   "outputs": [
    {
     "data": {
      "text/plain": [
       "TotalCharges    11\n",
       "dtype: int64"
      ]
     },
     "execution_count": 3,
     "metadata": {},
     "output_type": "execute_result"
    }
   ],
   "source": [
    "miss_vars(df)"
   ]
  },
  {
   "cell_type": "code",
   "execution_count": 46,
   "id": "16021f6a",
   "metadata": {},
   "outputs": [
    {
     "data": {
      "text/plain": [
       "customerID\n",
       "5709-LVOEQ    0\n",
       "4075-WKNIU    0\n",
       "2775-SEFEE    0\n",
       "1371-DWPAZ    0\n",
       "4472-LVYGI    0\n",
       "4367-NUYAO    0\n",
       "3213-VVOLG    0\n",
       "3115-CZMZD    0\n",
       "2520-SGTTA    0\n",
       "7644-OMVMY    0\n",
       "2923-ARZLG    0\n",
       "Name: tenure, dtype: int64"
      ]
     },
     "execution_count": 46,
     "metadata": {},
     "output_type": "execute_result"
    }
   ],
   "source": [
    "# Como temos a tenure igual a 0 em todos os casos quando o totalcharges e null, \n",
    "# entao vamos considerar o TotalCharges como 0 nestes casos,\n",
    "# pois nunca tivemos nenhum pagamento destes clientes\n",
    "df[df.TotalCharges.isna()].tenure"
   ]
  },
  {
   "cell_type": "code",
   "execution_count": 96,
   "id": "4e865606",
   "metadata": {
    "scrolled": true
   },
   "outputs": [
    {
     "data": {
      "text/html": [
       "<div>\n",
       "<style scoped>\n",
       "    .dataframe tbody tr th:only-of-type {\n",
       "        vertical-align: middle;\n",
       "    }\n",
       "\n",
       "    .dataframe tbody tr th {\n",
       "        vertical-align: top;\n",
       "    }\n",
       "\n",
       "    .dataframe thead th {\n",
       "        text-align: right;\n",
       "    }\n",
       "</style>\n",
       "<table border=\"1\" class=\"dataframe\">\n",
       "  <thead>\n",
       "    <tr style=\"text-align: right;\">\n",
       "      <th></th>\n",
       "      <th>SeniorCitizen</th>\n",
       "      <th>tenure</th>\n",
       "      <th>MonthlyCharges</th>\n",
       "      <th>TotalCharges</th>\n",
       "    </tr>\n",
       "  </thead>\n",
       "  <tbody>\n",
       "    <tr>\n",
       "      <th>SeniorCitizen</th>\n",
       "      <td>1.000000</td>\n",
       "      <td>0.018556</td>\n",
       "      <td>0.221067</td>\n",
       "      <td>0.107248</td>\n",
       "    </tr>\n",
       "    <tr>\n",
       "      <th>tenure</th>\n",
       "      <td>0.018556</td>\n",
       "      <td>1.000000</td>\n",
       "      <td>0.276417</td>\n",
       "      <td>0.889177</td>\n",
       "    </tr>\n",
       "    <tr>\n",
       "      <th>MonthlyCharges</th>\n",
       "      <td>0.221067</td>\n",
       "      <td>0.276417</td>\n",
       "      <td>1.000000</td>\n",
       "      <td>0.638032</td>\n",
       "    </tr>\n",
       "    <tr>\n",
       "      <th>TotalCharges</th>\n",
       "      <td>0.107248</td>\n",
       "      <td>0.889177</td>\n",
       "      <td>0.638032</td>\n",
       "      <td>1.000000</td>\n",
       "    </tr>\n",
       "  </tbody>\n",
       "</table>\n",
       "</div>"
      ],
      "text/plain": [
       "                SeniorCitizen    tenure  MonthlyCharges  TotalCharges\n",
       "SeniorCitizen        1.000000  0.018556        0.221067      0.107248\n",
       "tenure               0.018556  1.000000        0.276417      0.889177\n",
       "MonthlyCharges       0.221067  0.276417        1.000000      0.638032\n",
       "TotalCharges         0.107248  0.889177        0.638032      1.000000"
      ]
     },
     "execution_count": 96,
     "metadata": {},
     "output_type": "execute_result"
    }
   ],
   "source": [
    "df[numeric_cols].corr(method = 'spearman')\n",
    "#dropar toalchargers, pois tem relacao com monthl e tenure"
   ]
  },
  {
   "cell_type": "markdown",
   "id": "f2186c3f",
   "metadata": {},
   "source": [
    "## Check variaveis Categoricas"
   ]
  },
  {
   "cell_type": "code",
   "execution_count": 4,
   "id": "f3321c96",
   "metadata": {},
   "outputs": [
    {
     "ename": "AssertionError",
     "evalue": "Nenhuma coluna possui categoria com menos de 5.0%",
     "output_type": "error",
     "traceback": [
      "\u001b[1;31m---------------------------------------------------------------------------\u001b[0m",
      "\u001b[1;31mAssertionError\u001b[0m                            Traceback (most recent call last)",
      "Cell \u001b[1;32mIn[4], line 1\u001b[0m\n\u001b[1;32m----> 1\u001b[0m check_low_categorical(df, object_cols, \u001b[38;5;241m0.05\u001b[39m)\n",
      "File \u001b[1;32m~\\OneDrive\\Documentos\\GitHub\\a3_desafio_tecnico\\utils.py:47\u001b[0m, in \u001b[0;36mcheck_low_categorical\u001b[1;34m(df, object_cols, min_percent)\u001b[0m\n\u001b[0;32m     44\u001b[0m         low_percent\u001b[38;5;241m.\u001b[39mloc[col, \u001b[38;5;124m'\u001b[39m\u001b[38;5;124mpercent\u001b[39m\u001b[38;5;124m'\u001b[39m] \u001b[38;5;241m=\u001b[39m percent\n\u001b[0;32m     45\u001b[0m         low_percent\u001b[38;5;241m.\u001b[39mloc[col, \u001b[38;5;124m'\u001b[39m\u001b[38;5;124mcategory_name\u001b[39m\u001b[38;5;124m'\u001b[39m] \u001b[38;5;241m=\u001b[39m category_name\n\u001b[1;32m---> 47\u001b[0m \u001b[38;5;28;01massert\u001b[39;00m \u001b[38;5;28mlen\u001b[39m(low_percent) \u001b[38;5;241m>\u001b[39m \u001b[38;5;241m0\u001b[39m, \u001b[38;5;124mf\u001b[39m\u001b[38;5;124m'\u001b[39m\u001b[38;5;124mNenhuma coluna possui categoria com menos de \u001b[39m\u001b[38;5;132;01m{\u001b[39;00mmin_percent\u001b[38;5;241m*\u001b[39m\u001b[38;5;241m100\u001b[39m\u001b[38;5;132;01m}\u001b[39;00m\u001b[38;5;124m%\u001b[39m\u001b[38;5;124m'\u001b[39m\n\u001b[0;32m     48\u001b[0m \u001b[38;5;28;01mreturn\u001b[39;00m low_percent\n",
      "\u001b[1;31mAssertionError\u001b[0m: Nenhuma coluna possui categoria com menos de 5.0%"
     ]
    }
   ],
   "source": [
    "#verificar se existe alguma categoria com poucas observacoes\n",
    "check_low_categorical(df, object_cols, 0.05)"
   ]
  },
  {
   "cell_type": "code",
   "execution_count": 97,
   "id": "642c43ec",
   "metadata": {},
   "outputs": [
    {
     "data": {
      "text/plain": [
       "Contract\n",
       "Month-to-month    0.550192\n",
       "Two year          0.240664\n",
       "One year          0.209144\n",
       "Name: proportion, dtype: float64"
      ]
     },
     "execution_count": 97,
     "metadata": {},
     "output_type": "execute_result"
    }
   ],
   "source": [
    "df.Contract.value_counts(normalize = True)"
   ]
  }
 ],
 "metadata": {
  "kernelspec": {
   "display_name": "Python 3 (ipykernel)",
   "language": "python",
   "name": "python3"
  },
  "language_info": {
   "codemirror_mode": {
    "name": "ipython",
    "version": 3
   },
   "file_extension": ".py",
   "mimetype": "text/x-python",
   "name": "python",
   "nbconvert_exporter": "python",
   "pygments_lexer": "ipython3",
   "version": "3.11.5"
  }
 },
 "nbformat": 4,
 "nbformat_minor": 5
}
