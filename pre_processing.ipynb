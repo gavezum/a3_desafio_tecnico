{
 "cells": [
  {
   "cell_type": "markdown",
   "id": "642e17ab",
   "metadata": {},
   "source": [
    "## Libs"
   ]
  },
  {
   "cell_type": "code",
   "execution_count": 1,
   "id": "34d4c827",
   "metadata": {},
   "outputs": [],
   "source": [
    "import pandas as pd\n",
    "import numpy as np\n",
    "from utils import( type_cols, \n",
    "                  binary_transform, \n",
    "                  treat_category, \n",
    "                  binary_transform, \n",
    "                  create_variables,\n",
    "                  save_data_frame)\n",
    "\n",
    "from sklearn.model_selection import train_test_split\n"
   ]
  },
  {
   "cell_type": "code",
   "execution_count": 2,
   "id": "fd68e182",
   "metadata": {},
   "outputs": [],
   "source": [
    "# importando a base de dados\n",
    "df = pd.read_excel('data/raw/Customer_Churn.xlsx',\n",
    "                    index_col = 'customerID')\n",
    "\n",
    "numeric_cols, object_cols = type_cols(df)"
   ]
  },
  {
   "cell_type": "markdown",
   "id": "58df7e5d",
   "metadata": {},
   "source": [
    "## Missing values"
   ]
  },
  {
   "cell_type": "code",
   "execution_count": 3,
   "id": "490edcde",
   "metadata": {},
   "outputs": [],
   "source": [
    "# como foi visto durante o EDA apenas uma variavel apresenta null\n",
    "# vamos assumir que esta variavel esta null pois ainda nao teve pagamento\n",
    "# entao vamos assumir zero para todos\n",
    "df['TotalCharges'].fillna(0, inplace = True)"
   ]
  },
  {
   "cell_type": "markdown",
   "id": "6f1379d0",
   "metadata": {},
   "source": [
    "## Tratando categoricas"
   ]
  },
  {
   "cell_type": "code",
   "execution_count": 4,
   "id": "e73d196d",
   "metadata": {},
   "outputs": [],
   "source": [
    "# Algumas variaveis categoricas podem ser combinadas\n",
    "# tambem algumas sao binarias e vamos transformar em flags\n",
    "df_treat = treat_category(df, object_cols)\n",
    "df_treat = binary_transform(df, object_cols)\n"
   ]
  },
  {
   "cell_type": "code",
   "execution_count": 5,
   "id": "38a9d72f",
   "metadata": {},
   "outputs": [
    {
     "data": {
      "text/plain": [
       "True"
      ]
     },
     "execution_count": 5,
     "metadata": {},
     "output_type": "execute_result"
    }
   ],
   "source": [
    "#confirmar que após os tratamentos precisamos ter o mesmo numero de variaveis\n",
    "df.shape[1] == df_treat.shape[1]"
   ]
  },
  {
   "cell_type": "markdown",
   "id": "b1a9d35e",
   "metadata": {},
   "source": [
    "## Feature eng"
   ]
  },
  {
   "cell_type": "code",
   "execution_count": 6,
   "id": "36bf0871",
   "metadata": {},
   "outputs": [],
   "source": [
    "# criando algumas variaveis\n",
    "df_treat = create_variables(df_treat)"
   ]
  },
  {
   "cell_type": "code",
   "execution_count": 7,
   "id": "fd26dc6b",
   "metadata": {
    "scrolled": true
   },
   "outputs": [
    {
     "data": {
      "text/plain": [
       "[]"
      ]
     },
     "execution_count": 7,
     "metadata": {},
     "output_type": "execute_result"
    }
   ],
   "source": [
    "# transformando as variaveis categorias restantes em dummies\n",
    "df_final = pd.get_dummies(df_treat)\n",
    "df_final.select_dtypes(include = ['object']).columns.tolist()"
   ]
  },
  {
   "cell_type": "code",
   "execution_count": 13,
   "id": "03dec861",
   "metadata": {},
   "outputs": [],
   "source": [
    "df_final.drop(columns = 'TotalCharges', inplace = True)"
   ]
  },
  {
   "cell_type": "markdown",
   "id": "9d8a85ba",
   "metadata": {},
   "source": [
    "## Data set split"
   ]
  },
  {
   "cell_type": "code",
   "execution_count": 14,
   "id": "67d9dee3",
   "metadata": {},
   "outputs": [],
   "source": [
    "# fazer o split entre variaveis explicativas e resposta\n",
    "y = df_final.flag_Churn\n",
    "X = df_final.drop(columns = 'flag_Churn')"
   ]
  },
  {
   "cell_type": "code",
   "execution_count": 15,
   "id": "5ae59ea3",
   "metadata": {},
   "outputs": [],
   "source": [
    "# split de treino e teste\n",
    "X_train, X_test, y_train, y_test = train_test_split(X, \n",
    "                                                    y, \n",
    "                                                    test_size=0.2,\n",
    "                                                    stratify = y,\n",
    "                                                    random_state=123)"
   ]
  },
  {
   "cell_type": "code",
   "execution_count": 16,
   "id": "50b38a68",
   "metadata": {},
   "outputs": [],
   "source": [
    "# salvando base de dados\n",
    "version = '20231021'\n",
    "save_data_frame(X_train, 'X_train',version)\n",
    "save_data_frame(X_test, 'X_test',version)\n",
    "save_data_frame(y_train, 'y_train',version)\n",
    "save_data_frame(y_test, 'y_test',version)"
   ]
  }
 ],
 "metadata": {
  "kernelspec": {
   "display_name": "Python 3 (ipykernel)",
   "language": "python",
   "name": "python3"
  },
  "language_info": {
   "codemirror_mode": {
    "name": "ipython",
    "version": 3
   },
   "file_extension": ".py",
   "mimetype": "text/x-python",
   "name": "python",
   "nbconvert_exporter": "python",
   "pygments_lexer": "ipython3",
   "version": "3.11.5"
  }
 },
 "nbformat": 4,
 "nbformat_minor": 5
}
